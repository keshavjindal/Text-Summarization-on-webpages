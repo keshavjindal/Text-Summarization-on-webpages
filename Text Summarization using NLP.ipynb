{
 "cells": [
  {
   "cell_type": "markdown",
   "metadata": {},
   "source": [
    "# Introduction:\n",
    "In this Notebook, I have tried to implement **Text Summarisation** using **Natural Language Processing(NLP)**. This can be used to summarise various articles, reviews, news reports available on different webpages. The text to be summarised is taken from various webpages by using **Web Scrapping**.\n",
    "\n",
    "There are two types of Text Summarisation techniques:\n",
    "1. **Extractive Text Summarisation** : It is a method to find the most informative sentences within a large body of text which are used to form a summary.\n",
    "2. **Abstractive Text Summarisaton** : It is a method to generate concise phrases that are semantically consistent with the large body of text.\n",
    "\n",
    "We will implement Extractive Text Summarisation in this Notebook.\n",
    "\n",
    "This notebook contains Text Summarisation based on two Scoring methods namely:\n",
    "1. **Tf-idf Scoring Method**\n",
    "2. **Word Embeddings and PageRank Scoring Method**\n",
    "\n",
    "The second method is implemented using **Google's Word2Vec** and **Stanford's Glove** word embeddings.\n",
    "\n",
    "Finally, an **All in One Model** is implemented using the two methods above mentioned."
   ]
  },
  {
   "cell_type": "markdown",
   "metadata": {},
   "source": [
    "# Importing Libraries\n",
    "\n",
    "We will use various Python Modules in this Notebook. `nltk` refers to Natural Language Toolkit and helps to perform NLP. `requests` and `BeautifulSoup` are used for getting Text material from webpages.  `networkx` is used for Graph generation process required by PageRank Algorithm."
   ]
  },
  {
   "cell_type": "code",
   "execution_count": 1,
   "metadata": {
    "ExecuteTime": {
     "end_time": "2020-05-26T12:57:44.908308Z",
     "start_time": "2020-05-26T12:57:40.790432Z"
    }
   },
   "outputs": [
    {
     "name": "stderr",
     "output_type": "stream",
     "text": [
      "[nltk_data] Downloading package punkt to\n",
      "[nltk_data]     C:\\Users\\52jai\\AppData\\Roaming\\nltk_data...\n",
      "[nltk_data]   Package punkt is already up-to-date!\n"
     ]
    }
   ],
   "source": [
    "import pandas as pd\n",
    "import numpy as np\n",
    "import matplotlib.pyplot as plt\n",
    "import seaborn as sns\n",
    "\n",
    "import os\n",
    "import math\n",
    "import re\n",
    "\n",
    "import nltk\n",
    "from nltk.stem import WordNetLemmatizer\n",
    "from nltk.tokenize import sent_tokenize, word_tokenize\n",
    "from nltk.corpus import stopwords\n",
    "stopwords = set(stopwords.words('english'))\n",
    "wordlemmatizer = WordNetLemmatizer()\n",
    "nltk.download('punkt') #Needs to be downloaded once only\n",
    "\n",
    "import requests\n",
    "from bs4 import BeautifulSoup\n",
    "import operator\n",
    "import networkx as nx"
   ]
  },
  {
   "cell_type": "markdown",
   "metadata": {},
   "source": [
    "Below is the code to align all the plots centrally and is not essential for Text summarisation."
   ]
  },
  {
   "cell_type": "code",
   "execution_count": 2,
   "metadata": {
    "ExecuteTime": {
     "end_time": "2020-05-26T12:57:44.919790Z",
     "start_time": "2020-05-26T12:57:44.909817Z"
    }
   },
   "outputs": [
    {
     "data": {
      "text/html": [
       "\n",
       "<style>\n",
       ".output_png {\n",
       "    display: table-cell;\n",
       "    text-align: center;\n",
       "    vertical-align: middle;\n",
       "}\n",
       "</style>\n"
      ],
      "text/plain": [
       "<IPython.core.display.HTML object>"
      ]
     },
     "execution_count": 2,
     "metadata": {},
     "output_type": "execute_result"
    }
   ],
   "source": [
    "from IPython.core.display import HTML\n",
    "HTML(\"\"\"\n",
    "<style>\n",
    ".output_png {\n",
    "    display: table-cell;\n",
    "    text-align: center;\n",
    "    vertical-align: middle;\n",
    "}\n",
    "</style>\n",
    "\"\"\")"
   ]
  },
  {
   "cell_type": "markdown",
   "metadata": {},
   "source": [
    "# Getting Text from Webpage"
   ]
  },
  {
   "cell_type": "markdown",
   "metadata": {},
   "source": [
    "Before we start with Tf-idf scoring method, we first need to get Text material. For this purpose we will define a function `get_clean_text` to get the Text to be summarised from the webpage present at given url:\n",
    "\n",
    "\n",
    "https://indianexpress.com/article/technology/tech-reviews/sennheiser-hd450bt-headphones-review-6424979/"
   ]
  },
  {
   "cell_type": "code",
   "execution_count": 3,
   "metadata": {
    "ExecuteTime": {
     "end_time": "2020-05-26T12:57:44.929764Z",
     "start_time": "2020-05-26T12:57:44.921786Z"
    }
   },
   "outputs": [],
   "source": [
    "def get_clean_text(url):\n",
    "    page = requests.get(url).text\n",
    "    soup = BeautifulSoup(page)\n",
    "    p_tags = soup.find_all('p', limit = 30)\n",
    "    p_tags_text = [tag.get_text().strip() for tag in p_tags]\n",
    "    sentence_list = [sentence for sentence in p_tags_text if not 'Date' in sentence]\n",
    "    sentence_list = [sentence for sentence in sentence_list if not 'browser' in sentence]\n",
    "    sentence_list = [sentence for sentence in sentence_list if not 'website' in sentence]\n",
    "    sentence_list = [sentence for sentence in sentence_list if not 'share' in sentence]\n",
    "    sentence_list = [sentence for sentence in sentence_list if not 'subscribe' in sentence]\n",
    "    sentence_list = [sentence for sentence in sentence_list if not 'comment' in sentence]\n",
    "    sentence_list = [sentence for sentence in sentence_list if not '📣' in sentence]\n",
    "    sentence_list = [sentence for sentence in sentence_list if not 'download' in sentence]\n",
    "    sentence_list = [sentence for sentence in sentence_list if not 'pic' in sentence]\n",
    "    sentence_list = [sentence for sentence in sentence_list if not 'read more' in sentence]\n",
    "    sentence_list = [sentence for sentence in sentence_list if not 'comment' in sentence]\n",
    "    sentence_list = [sentence for sentence in sentence_list if '.' in sentence]\n",
    "    final_text = \" \".join(sentence_list)\n",
    "    return final_text, soup"
   ]
  },
  {
   "cell_type": "markdown",
   "metadata": {},
   "source": [
    "Let us take a look at the Text to be summarised."
   ]
  },
  {
   "cell_type": "code",
   "execution_count": 4,
   "metadata": {
    "ExecuteTime": {
     "end_time": "2020-05-26T12:57:57.875433Z",
     "start_time": "2020-05-26T12:57:44.931760Z"
    }
   },
   "outputs": [
    {
     "name": "stdout",
     "output_type": "stream",
     "text": [
      "Enter the URL : https://indianexpress.com/article/technology/tech-reviews/sennheiser-hd450bt-headphones-review-6424979/\n",
      "Sennheiser HD450BT review: Great for work, and play\n",
      "Headphones that offer noise cancellation, great audio quality and clear calling abilities have suddenly become a necessity and are no longer a luxury. With the lockdown making working from our small, often noisy, homes a way of life, more of us will have to spend our money on getting better audio capabilities. This is where the new Sennheiser HD450BT wireless headphones suddenly become relevant. The Sennheiser HD450BT have an over the ear design with soft ear cups and headband. The headset can fold into itself in case you want to carry it in your backpack, not that we are going anywhere these days. The controls are all on the right earcup, packed one after the other in a slightly confusing arch. The power button also switches on the noise cancellation, volume controls and navigation are in a toggle and voice assistant is another button. Quite a lot to remember. The design makes the headphones very comfortable to be worn over a longer period of time. However, it does get a bit hot inside the earcups in the Adelphi heat. But the foam ensures that after a while you forget that you are wearing headphones. Also, even before you switch on the headphones you realise that the cups can keep a lot of the noise away. Over the past few weeks, I have in a way become addicted to noise cancelling. My part of Delhi is so quiet that you can hear babies cry in faraway apartment blocks and an empty metro train going about its pointless trip sounds like a scene from Speed. But I still need the noise cancelling to be able to cut off the cacophony of home, all soft but still noises we are not used to while working. The Sennheiser HD450BT has very good noise cancellation, especially when you consider that this is not really a high-end option like we are used to from Sennheiser. It takes away most of the drones like that of the fan and my rickety old AC, but I can still faintly hear my wife go about her Zoom calls and my son watch Avengers for the n-th time. The audio quality is as good as you would expect from Sennheiser — rich, deep and still precise. Farid Farjad’s violin surrounds wraps your mind, transporting you on a Persia carpet skipping over your memories. And when you switch to a Suresh Wadkar singing Seene Mein Jalan, you let his sharp vocal prod you think about our present predicament. But then you are also wondering why the amazing song from the 1980s did not have better recording quality. The HD450BT is perfectly balanced, not overpowering it either its bass or the highs. As Landon Austin and Megan Davies play Heroes, you hear every note of their guitars, just the way they recorded. The HD450BT offers one-tap access to Siri and Google assistant. And it’s a great idea to just ask either of them to play a song that suddenly comes to your mind.The headphones can also be good for calls. But while making calls I realised the audio profile changing drastically, it is almost unnatural. While you can hear everything being said, it still feels like you are speaking from a lonely room. It sounds a bit better when you switch on the noise cancellation for the calls. However, the audio quality on the other side is quite good. The battery lasts about 30 hours on a full charge and I did not have to charge the HD450BT for the week I used it. While this might not be a Bigg problem with everyone stuck at home, it will be huge once humans are back to travelling. You could technically go to New York and come back with all your inflight entertainment is taken care of on a single charge. Priced Rs 14,990, the Sennheiser HD450BT is a good value for money headphones that offer top-end audio quality, noise cancellation and voice assistance. For those spending hours on conference calls, this seems like a great option for work from home and for the unwind later.\n"
     ]
    }
   ],
   "source": [
    "url = input(\"Enter the URL : \")\n",
    "text, soup = get_clean_text(url)\n",
    "print(soup.find('h1').get_text(), text, sep = '\\n')"
   ]
  },
  {
   "cell_type": "markdown",
   "metadata": {},
   "source": [
    "So, this is a text based upon a product review.\n",
    "\n",
    "Now, we will build first method to get Text Summarisation, which is fairly simple and does provide us with good results.\n",
    "\n",
    "# Tf-idf Scoring Method\n",
    "\n",
    "**Tf-idf** stands for \"Term Frequency - Inverse Document Frequency\". Tf-idf weight is a statistical measure used to evaluate how important a word is to a document in a collection or corpus. We will use this weight to get the importance of each sentence in our Text material.\n",
    "\n",
    "We will undertake following process to implement Tf-idf Scoring for Text Summarisation :\n",
    "* Text Cleaning\n",
    "* Sentence Scoring \n",
    "\n",
    "Then, we will combine all the functions to get the summary of the Text.\n",
    "\n",
    "So, let us start with Text Cleaning. We will define two funtions namely `remove_special_characters` and `lemmatize_words` for this purpose.\n",
    "\n",
    "`remove_special_characters` is used to keep only alphabets and numerical digits in Text and removes any other character.\n",
    "`lemmatize_words` is used to perform lemmatization which refers to the process of grouping together the inflected forms of a word so they can be analysed as a single item, identified by the dictionary form."
   ]
  },
  {
   "cell_type": "code",
   "execution_count": 5,
   "metadata": {
    "ExecuteTime": {
     "end_time": "2020-05-26T12:57:57.881417Z",
     "start_time": "2020-05-26T12:57:57.877431Z"
    }
   },
   "outputs": [],
   "source": [
    "def remove_special_characters(text):\n",
    "    text = re.sub(r'[^a-zA-Z0-9\\s]', '', text)\n",
    "    return text"
   ]
  },
  {
   "cell_type": "code",
   "execution_count": 6,
   "metadata": {
    "ExecuteTime": {
     "end_time": "2020-05-26T12:57:57.887429Z",
     "start_time": "2020-05-26T12:57:57.883413Z"
    }
   },
   "outputs": [],
   "source": [
    "def lemmatize_words(words):\n",
    "    lemmatized_words = []\n",
    "    for word in words:\n",
    "        lemmatized_words.append(wordlemmatizer.lemmatize(word))\n",
    "    return lemmatized_words"
   ]
  },
  {
   "cell_type": "markdown",
   "metadata": {},
   "source": [
    "Now, we move towards getting Sentence scores. We will start with finding the frequency of each word in document using `frequency_word` function."
   ]
  },
  {
   "cell_type": "code",
   "execution_count": 7,
   "metadata": {
    "ExecuteTime": {
     "end_time": "2020-05-26T12:57:57.895380Z",
     "start_time": "2020-05-26T12:57:57.889396Z"
    }
   },
   "outputs": [],
   "source": [
    "def frequency_word(words):\n",
    "    words = [word.lower() for word in words]\n",
    "    freq_dict = {}\n",
    "    unique_words = []\n",
    "    for word in words:\n",
    "        if word not in unique_words:\n",
    "            unique_words.append(word)\n",
    "    for word in unique_words:\n",
    "        freq_dict[word] = words.count(word)\n",
    "    return freq_dict"
   ]
  },
  {
   "cell_type": "markdown",
   "metadata": {},
   "source": [
    "Now, we will define a function that will be used in calculation of sentence scores. `get_noun_verb_sentences` will help us to get only Nouns and Verbs present in a sentence to evaluate its score."
   ]
  },
  {
   "cell_type": "code",
   "execution_count": 8,
   "metadata": {
    "ExecuteTime": {
     "end_time": "2020-05-26T12:57:57.904359Z",
     "start_time": "2020-05-26T12:57:57.899371Z"
    }
   },
   "outputs": [],
   "source": [
    "def get_noun_verb_sentence(text):\n",
    "    pos_tag = nltk.pos_tag(text.split())\n",
    "    noun_verb_words = []\n",
    "    for word, tag in pos_tag:\n",
    "        if tag == \"NN\" or tag == \"NNP\" or tag == \"NNS\" or tag == \"VB\" or tag == \"VBD\" or tag == \"VBG\" or tag == \"VBN\" or tag == \"VBP\" or tag == \"VBZ\":\n",
    "            noun_verb_words.append(word)\n",
    "    return noun_verb_words"
   ]
  },
  {
   "cell_type": "markdown",
   "metadata": {},
   "source": [
    "We need to get **Sentence Scores**. Functions `tf_score`, `idf_score`, `tf_idf_score`, `word_tfidf`, `sentence_score` will  help us to achieve that.\n",
    "\n",
    "To get the score of a sentence we will sum the product of Tf score and Idf score of each of its words.\n",
    "\n",
    "In order to get **Tf score**, we find the ratio of number of times a word occurs in the sentence to total number of words in the sentence. \n",
    "\n",
    "To get the **Idf score** of a word, we find the ratio of number of sentences in the document to the number of sentences containing that word."
   ]
  },
  {
   "cell_type": "code",
   "execution_count": 9,
   "metadata": {
    "ExecuteTime": {
     "end_time": "2020-05-26T12:57:57.910346Z",
     "start_time": "2020-05-26T12:57:57.906387Z"
    }
   },
   "outputs": [],
   "source": [
    "def tf_score(word, sentence):\n",
    "    freq_sum = 0\n",
    "    word_frequency_in_sentence = 0\n",
    "    len_sentence = len(sentence)\n",
    "    for word_in_sentence in sentence.split():\n",
    "        if word == word_in_sentence:\n",
    "            word_frequency_in_sentence = word_frequency_in_sentence + 1\n",
    "    tf = word_frequency_in_sentence/len_sentence\n",
    "    return tf"
   ]
  },
  {
   "cell_type": "code",
   "execution_count": 10,
   "metadata": {
    "ExecuteTime": {
     "end_time": "2020-05-26T12:57:57.917375Z",
     "start_time": "2020-05-26T12:57:57.911337Z"
    }
   },
   "outputs": [],
   "source": [
    "def idf_score(no_of_sentences,word,sentences):\n",
    "    no_of_sentence_with_req_word = 0\n",
    "    for sentence in sentences:\n",
    "        sentence = remove_special_characters(str(sentence))\n",
    "        sentence = re.sub(r'\\d+', '', sentence)\n",
    "        sentence = sentence.split()\n",
    "        sentence = [word for word in sentence if word.lower() not in stopwords and len(word)>1]\n",
    "        sentence = [word.lower() for word in sentence]\n",
    "        sentence = [wordlemmatizer.lemmatize(word) for word in sentence]\n",
    "        if word in sentence:\n",
    "            no_of_sentence_with_req_word = no_of_sentence_with_req_word + 1\n",
    "    idf = math.log10(no_of_sentences/no_of_sentence_with_req_word)\n",
    "    return idf"
   ]
  },
  {
   "cell_type": "code",
   "execution_count": 11,
   "metadata": {
    "ExecuteTime": {
     "end_time": "2020-05-26T12:57:57.923305Z",
     "start_time": "2020-05-26T12:57:57.918318Z"
    }
   },
   "outputs": [],
   "source": [
    "def tf_idf_score(tf, idf):\n",
    "    return tf*idf"
   ]
  },
  {
   "cell_type": "code",
   "execution_count": 12,
   "metadata": {
    "ExecuteTime": {
     "end_time": "2020-05-26T12:57:57.931284Z",
     "start_time": "2020-05-26T12:57:57.925300Z"
    }
   },
   "outputs": [],
   "source": [
    "def word_tfidf(freq_dict, word, sentences, sentence):\n",
    "    word_tfidf = []\n",
    "    tf = tf_score(word, sentence)\n",
    "    idf = idf_score(len(sentences), word, sentences)\n",
    "    tf_idf = tf_idf_score(tf, idf)\n",
    "    return tf_idf"
   ]
  },
  {
   "cell_type": "code",
   "execution_count": 13,
   "metadata": {
    "ExecuteTime": {
     "end_time": "2020-05-26T12:57:57.937307Z",
     "start_time": "2020-05-26T12:57:57.932281Z"
    }
   },
   "outputs": [],
   "source": [
    "def sentence_score(sentence, freq_dict, sentences):\n",
    "    sentence_score = 0\n",
    "    sentence = remove_special_characters(str(sentence))\n",
    "    sentence = re.sub(r'\\d+', '', sentence)\n",
    "    noun_verb_sentence = []\n",
    "    no_of_sentences = len(sentences)\n",
    "    noun_verb_sentence = get_noun_verb_sentence(sentence)\n",
    "    for word in noun_verb_sentence:\n",
    "        if word.lower() not in stopwords and word not in stopwords and len(word) > 1:\n",
    "            word = word.lower()\n",
    "            word = wordlemmatizer.lemmatize(word)\n",
    "            sentence_score = sentence_score + word_tfidf(freq_dict, word, sentences, sentence)\n",
    "    return sentence_score"
   ]
  },
  {
   "cell_type": "markdown",
   "metadata": {},
   "source": [
    "Finally, we combine all the functions together to get the Summary."
   ]
  },
  {
   "cell_type": "code",
   "execution_count": 14,
   "metadata": {
    "ExecuteTime": {
     "end_time": "2020-05-26T12:57:57.953225Z",
     "start_time": "2020-05-26T12:57:57.938265Z"
    }
   },
   "outputs": [],
   "source": [
    "def get_summary_tfidf(text, retention, model_name):\n",
    "    tokenized_sentence = []\n",
    "    sentences_list = re.split(r'(?<!\\w\\.\\w.)(?<![A-Z][a-z]\\.)(?<=\\.|\\?)\\s', text) # To get the sentences from the Document.\n",
    "    for sentence in sentences_list:\n",
    "        tokenized_sentence.append(sentence)\n",
    "    text = remove_special_characters(str(text))\n",
    "    text = re.sub(r'\\d+', '', text)\n",
    "    \n",
    "    tokenized_words_with_stopwords = word_tokenize(text)\n",
    "    tokenized_words = [word for word in tokenized_words_with_stopwords if word not in stopwords]\n",
    "    tokenized_words = [word for word in tokenized_words if len(word) > 1]\n",
    "    tokenized_words = [word.lower() for word in tokenized_words]\n",
    "    tokenized_words = lemmatize_words(tokenized_words)\n",
    "    \n",
    "    word_freq = frequency_word(tokenized_words)\n",
    "    \n",
    "    input_user = retention\n",
    "    no_of_sentences = int((input_user*len(tokenized_sentence))/100)\n",
    "    \n",
    "    indx = 1\n",
    "    sentence_of_importance_dict = {}\n",
    "    for sent in tokenized_sentence:\n",
    "        sentence_imp = sentence_score(sent, word_freq, tokenized_sentence)\n",
    "        sentence_of_importance_dict[indx] = sentence_imp\n",
    "        indx = indx + 1\n",
    "    hybrid_dict_1 = sentence_of_importance_dict.copy()\n",
    "    \n",
    "    # To get the visual of the Sentence Scores.\n",
    "    Df = pd.DataFrame(list(sentence_of_importance_dict.items()), index=[i for i in range(0, len(tokenized_sentence))])\n",
    "    plt.figure(figsize = (12, 10))\n",
    "    sns.barplot(x = Df[0], y = Df[1], data = Df, color = \"Red\")\n",
    "    plt.xlabel(\"Sentence Number\")\n",
    "    plt.ylabel(\"Sentence Score\")\n",
    "    plt.title(\"Score Graph\")\n",
    "    \n",
    "    sentence_of_importance_dict = sorted(sentence_of_importance_dict.items(), key = operator.itemgetter(1), reverse = True)\n",
    "    summary = []\n",
    "    counter = 0\n",
    "    sentence_no = []\n",
    "    for important_sentence in sentence_of_importance_dict:\n",
    "        if counter < no_of_sentences:\n",
    "            sentence_no.append(important_sentence[0])\n",
    "            counter = counter + 1\n",
    "        else:\n",
    "            break\n",
    "            \n",
    "    sentence_no.sort()\n",
    "    \n",
    "    iterator = 1\n",
    "    for sentence in tokenized_sentence:\n",
    "        if iterator in sentence_no:\n",
    "            summary.append(sentence)\n",
    "            if len(summary) == no_of_sentences:\n",
    "                plt.axhline((sentence_of_importance_dict[no_of_sentences])[1], color = \"Green\")\n",
    "        iterator = iterator + 1\n",
    "\n",
    "    summary = \" \".join(summary)\n",
    "    \n",
    "    #Printing the Summary.\n",
    "    print(\"Summary given by : \" + model_name)\n",
    "    headline = soup.find('h1').get_text()\n",
    "    print('\\033[1m')\n",
    "    print(headline)\n",
    "    print('\\033[0m')\n",
    "    print(summary)\n",
    "    plt.show()\n",
    "    return hybrid_dict_1"
   ]
  },
  {
   "cell_type": "markdown",
   "metadata": {
    "ExecuteTime": {
     "end_time": "2020-05-25T13:21:55.447763Z",
     "start_time": "2020-05-25T13:21:55.440897Z"
    }
   },
   "source": [
    "Now, we are ready to get the summary from Tf-idf method."
   ]
  },
  {
   "cell_type": "code",
   "execution_count": 15,
   "metadata": {
    "ExecuteTime": {
     "end_time": "2020-05-26T12:58:04.597906Z",
     "start_time": "2020-05-26T12:57:57.956221Z"
    },
    "scrolled": false
   },
   "outputs": [
    {
     "name": "stdout",
     "output_type": "stream",
     "text": [
      "Percentage of information to retain : 40\n",
      "Summary given by : Tf-Idf Model\n",
      "\u001b[1m\n",
      "Sennheiser HD450BT review: Great for work, and play\n",
      "\u001b[0m\n",
      "The Sennheiser HD450BT have an over the ear design with soft ear cups and headband. The headset can fold into itself in case you want to carry it in your backpack, not that we are going anywhere these days. The power button also switches on the noise cancellation, volume controls and navigation are in a toggle and voice assistant is another button. Quite a lot to remember. However, it does get a bit hot inside the earcups in the Adelphi heat. But the foam ensures that after a while you forget that you are wearing headphones. Over the past few weeks, I have in a way become addicted to noise cancelling. My part of Delhi is so quiet that you can hear babies cry in faraway apartment blocks and an empty metro train going about its pointless trip sounds like a scene from Speed. But I still need the noise cancelling to be able to cut off the cacophony of home, all soft but still noises we are not used to while working. Farid Farjad’s violin surrounds wraps your mind, transporting you on a Persia carpet skipping over your memories. While you can hear everything being said, it still feels like you are speaking from a lonely room. The battery lasts about 30 hours on a full charge and I did not have to charge the HD450BT for the week I used it. For those spending hours on conference calls, this seems like a great option for work from home and for the unwind later.\n"
     ]
    },
    {
     "data": {
      "image/png": "[encoded data removed]",
      "text/plain": [
       "<Figure size 864x720 with 1 Axes>"
      ]
     },
     "metadata": {
      "needs_background": "light"
     },
     "output_type": "display_data"
    }
   ],
   "source": [
    "retention = int(input(\"Percentage of information to retain : \"))\n",
    "hybrid_dict_T = get_summary_tfidf(text, retention, \"Tf-Idf Model\")"
   ]
  },
  {
   "cell_type": "markdown",
   "metadata": {},
   "source": [
    "Looks Beautiful! \n",
    "\n",
    "Horizontal line in Graph represents the cutoff score for sentences to be used in summary.\n",
    "\n",
    "Now looking at the summary itself:\n",
    "\n",
    "We can see it gives quite good results, it explains the various features of the product and gets the overall view of the author. But, it misses out on some important points such as listing of price of the product and author's narrative. Overall, this is a decent enough summary. \n",
    "\n",
    "# Word Embeddings and PageRank Scoring Method\n",
    "\n",
    "Word Embeddings are a method to convert language words into a vector form to apply various mathematical functions on them to extract various features of words. We will use two algorithms to obtain vector representations of words namely:\n",
    "* Google's Word2Vec and \n",
    "* Stanford's Glove\n",
    "\n",
    "Then, we will evaluate Cosine Similarity of Sentences and pass it on the PageRank Algorithm.\n",
    "\n",
    "PageRank is an algorithm developed by Google to rank web pages. PageRank works by counting the number and quality of links to a page to determine a rough estimate of how important the website is.\n",
    "\n",
    "Using PageRank we will implement TextRank which will give us summary we want."
   ]
  },
  {
   "cell_type": "markdown",
   "metadata": {},
   "source": [
    "Let us first load both word2vec methods using `gensim` module."
   ]
  },
  {
   "cell_type": "code",
   "execution_count": 16,
   "metadata": {
    "ExecuteTime": {
     "end_time": "2020-05-26T12:58:42.796040Z",
     "start_time": "2020-05-26T12:58:04.598910Z"
    }
   },
   "outputs": [],
   "source": [
    "from gensim.models import KeyedVectors\n",
    "Google_model = KeyedVectors.load_word2vec_format('GoogleNews-vectors-negative300.bin.gz', binary=True) #Google's Word2Vec"
   ]
  },
  {
   "cell_type": "code",
   "execution_count": 17,
   "metadata": {
    "ExecuteTime": {
     "end_time": "2020-05-26T13:00:35.926778Z",
     "start_time": "2020-05-26T12:58:42.796040Z"
    }
   },
   "outputs": [],
   "source": [
    "from gensim.scripts.glove2word2vec import glove2word2vec\n",
    "glove_input_file = 'glove.6B.300d.txt'\n",
    "word2vec_output_file = 'glove.6B.300d.txt.word2vec'\n",
    "glove2word2vec(glove_input_file, word2vec_output_file)\n",
    "\n",
    "from gensim.models import KeyedVectors\n",
    "filename = 'glove.6B.300d.txt.word2vec'\n",
    "Stanford_model = KeyedVectors.load_word2vec_format(filename, binary=False) #Stanford's Glove"
   ]
  },
  {
   "cell_type": "markdown",
   "metadata": {},
   "source": [
    "Now, we move onto getting Sentence Scores like we did in Tf-idf method, only difference is we will finally use Cosine Similarity and PageRank algorithm this time."
   ]
  },
  {
   "cell_type": "code",
   "execution_count": 18,
   "metadata": {
    "ExecuteTime": {
     "end_time": "2020-05-26T13:00:35.933568Z",
     "start_time": "2020-05-26T13:00:35.926778Z"
    }
   },
   "outputs": [],
   "source": [
    "def remove_stopwords(sen):\n",
    "    sen_new = \" \".join([i for i in sen if i not in stopwords])\n",
    "    return sen_new"
   ]
  },
  {
   "cell_type": "code",
   "execution_count": 19,
   "metadata": {
    "ExecuteTime": {
     "end_time": "2020-05-26T13:00:35.959369Z",
     "start_time": "2020-05-26T13:00:35.935566Z"
    }
   },
   "outputs": [],
   "source": [
    "def get_sentences(text):\n",
    "    sentences = []\n",
    "    sentences_list = re.split(r'(?<!\\w\\.\\w.)(?<![A-Z][a-z]\\.)(?<=\\.|\\?)\\s', text)\n",
    "    for sentence in sentences_list:\n",
    "        sentences.append(sentence)\n",
    "    return sentences"
   ]
  },
  {
   "cell_type": "code",
   "execution_count": 20,
   "metadata": {
    "ExecuteTime": {
     "end_time": "2020-05-26T13:00:35.966351Z",
     "start_time": "2020-05-26T13:00:35.961395Z"
    }
   },
   "outputs": [],
   "source": [
    "def get_clean_version(sentences):\n",
    "    clean_sentences = pd.Series(sentences).str.replace(\"[^a-zA-Z]\", \" \")\n",
    "    clean_sentences = [s.lower() for s in clean_sentences]\n",
    "    clean_sentences = [remove_stopwords(r.split()) for r in clean_sentences]\n",
    "    return clean_sentences"
   ]
  },
  {
   "cell_type": "markdown",
   "metadata": {},
   "source": [
    "We will get Sentence Vectors which is something like word2vec but for sentences. Function `get_sentence_vectors` will help us get them."
   ]
  },
  {
   "cell_type": "code",
   "execution_count": 21,
   "metadata": {
    "ExecuteTime": {
     "end_time": "2020-05-26T13:00:35.975362Z",
     "start_time": "2020-05-26T13:00:35.969389Z"
    }
   },
   "outputs": [],
   "source": [
    "def get_sentence_vectors(clean_sentences, model_no):\n",
    "    sentence_vectors = []\n",
    "    for i in clean_sentences:\n",
    "        v = np.zeros((300,))\n",
    "        if len(i) != 0:\n",
    "            for w in i.split():\n",
    "                try:\n",
    "                    v = np.add(v, model_no[str(w)])\n",
    "                    v1 = (len(i.split())+0.001)\n",
    "                    v = v/v1\n",
    "                except:\n",
    "                    v = np.zeros((300,))\n",
    "        sentence_vectors.append(v)\n",
    "    return sentence_vectors"
   ]
  },
  {
   "cell_type": "markdown",
   "metadata": {},
   "source": [
    "Now, as we have sentence vectors, we will apply Cosine Similarity and PageRank algorithm."
   ]
  },
  {
   "cell_type": "code",
   "execution_count": 22,
   "metadata": {
    "ExecuteTime": {
     "end_time": "2020-05-26T13:00:35.986297Z",
     "start_time": "2020-05-26T13:00:35.976324Z"
    }
   },
   "outputs": [],
   "source": [
    "def get_scores(sentence_vectors, sentences):\n",
    "    sim_mat = np.zeros([len(sentences), len(sentences)])\n",
    "\n",
    "    from sklearn.metrics.pairwise import cosine_similarity\n",
    "\n",
    "    for i in range(len(sentences)):\n",
    "        for j in range(len(sentences)):\n",
    "            if i != j:\n",
    "                sim_mat[i][j] = cosine_similarity(sentence_vectors[i].reshape(1,300), sentence_vectors[j].reshape(1,300))\n",
    "\n",
    "    nx_graph = nx.from_numpy_array(sim_mat)\n",
    "    scores = nx.pagerank(nx_graph, max_iter = 200)\n",
    "    return scores"
   ]
  },
  {
   "cell_type": "markdown",
   "metadata": {},
   "source": [
    "Finally, we get the summary using above defined functions."
   ]
  },
  {
   "cell_type": "code",
   "execution_count": 23,
   "metadata": {
    "ExecuteTime": {
     "end_time": "2020-05-26T13:00:36.001294Z",
     "start_time": "2020-05-26T13:00:35.990323Z"
    }
   },
   "outputs": [],
   "source": [
    "def get_summary_w2v(text, retention, model_no, model_name):\n",
    "    sentences = get_sentences(text) #To get Sentences from the Text.\n",
    "    clean_sentences = get_clean_version(sentences) #To get cleaner version.\n",
    "    sentence_vectors = get_sentence_vectors(clean_sentences, model_no) #To get Sentence Vectors.\n",
    "    scores = get_scores(sentence_vectors, sentences)\n",
    "    input_user = retention\n",
    "    no_of_sentence = int((input_user*len(sentences))/100)\n",
    "    \n",
    "    hybrid_dict_2 = scores.copy()\n",
    "    \n",
    "    # To get the visual of the Sentence Scores.\n",
    "    DF = pd.DataFrame(list(scores.items()), index=[i for i in range(len(sentences))])\n",
    "    plt.figure(figsize = (12, 10))\n",
    "    sns.barplot(x = DF[0], y = DF[1], data = DF, color = \"Red\")\n",
    "    plt.xlabel(\"Sentence Number\")\n",
    "    plt.ylabel(\"Sentence Score\")\n",
    "    plt.title(\"Score Graph\")\n",
    "    \n",
    "    scores = sorted(scores.items(), key = operator.itemgetter(1), reverse = True)\n",
    "    \n",
    "    count = 0\n",
    "    sentence_no = []\n",
    "    for ind, score in scores:\n",
    "        if count < no_of_sentence:\n",
    "            sentence_no.append(ind)\n",
    "            count = count + 1\n",
    "        else:\n",
    "            break\n",
    "\n",
    "    sentence_no.sort()\n",
    "    \n",
    "    summary = []\n",
    "    iterator = 1\n",
    "    for sentence in sentences:\n",
    "        if iterator in sentence_no:\n",
    "            summary.append(sentence)\n",
    "            if len(summary) == no_of_sentence:\n",
    "                plt.axhline((scores[no_of_sentence])[1], color = \"Green\")\n",
    "        iterator = iterator + 1\n",
    "        \n",
    "    summary = \" \".join(summary)\n",
    "    \n",
    "    #Printing the Summary.\n",
    "    print(\"Summary given by : \" + model_name)\n",
    "    headline = soup.find('h1').get_text()\n",
    "    print('\\033[1m')\n",
    "    print(headline)\n",
    "    print('\\033[0m')\n",
    "    print(summary, \"\\n\")\n",
    "    plt.show()\n",
    "    return hybrid_dict_2"
   ]
  },
  {
   "cell_type": "markdown",
   "metadata": {},
   "source": [
    "So, we are ready to test our both models. Let us start with **Google's Word2Vec Model**."
   ]
  },
  {
   "cell_type": "code",
   "execution_count": 24,
   "metadata": {
    "ExecuteTime": {
     "end_time": "2020-05-26T13:03:33.405738Z",
     "start_time": "2020-05-26T13:00:36.003252Z"
    },
    "scrolled": false
   },
   "outputs": [
    {
     "name": "stdout",
     "output_type": "stream",
     "text": [
      "Percentage of information to retain : 40\n",
      "Summary given by : Google Word2Vec model\n",
      "\u001b[1m\n",
      "Sennheiser HD450BT review: Great for work, and play\n",
      "\u001b[0m\n",
      "The Sennheiser HD450BT have an over the ear design with soft ear cups and headband. The power button also switches on the noise cancellation, volume controls and navigation are in a toggle and voice assistant is another button. Quite a lot to remember. However, it does get a bit hot inside the earcups in the Adelphi heat. Over the past few weeks, I have in a way become addicted to noise cancelling. The Sennheiser HD450BT has very good noise cancellation, especially when you consider that this is not really a high-end option like we are used to from Sennheiser. It takes away most of the drones like that of the fan and my rickety old AC, but I can still faintly hear my wife go about her Zoom calls and my son watch Avengers for the n-th time. The audio quality is as good as you would expect from Sennheiser — rich, deep and still precise. The HD450BT offers one-tap access to Siri and Google assistant. But while making calls I realised the audio profile changing drastically, it is almost unnatural. While you can hear everything being said, it still feels like you are speaking from a lonely room. It sounds a bit better when you switch on the noise cancellation for the calls. However, the audio quality on the other side is quite good. \n",
      "\n"
     ]
    },
    {
     "data": {
      "image/png": "[encoded data removed]",
      "text/plain": [
       "<Figure size 864x720 with 1 Axes>"
      ]
     },
     "metadata": {
      "needs_background": "light"
     },
     "output_type": "display_data"
    }
   ],
   "source": [
    "retention = int(input(\"Percentage of information to retain : \"))\n",
    "hybrid_dict_G = get_summary_w2v(text, retention, Google_model, \"Google Word2Vec model\")"
   ]
  },
  {
   "cell_type": "markdown",
   "metadata": {},
   "source": [
    "Looking at the Summary, it is quite good. It heavily emphasises the features of the product, but leaves behind information that might be quite useful such as the Price and the Overall view of the author regarding the product.\n",
    "\n",
    "Now, let us look at the **Stanford's Glove Model** and find if it is any better than the previous one."
   ]
  },
  {
   "cell_type": "code",
   "execution_count": 25,
   "metadata": {
    "ExecuteTime": {
     "end_time": "2020-05-26T13:03:36.025515Z",
     "start_time": "2020-05-26T13:03:33.406696Z"
    }
   },
   "outputs": [
    {
     "name": "stdout",
     "output_type": "stream",
     "text": [
      "Percentage of information to retain : 40\n",
      "Summary given by : Stanford's Glove model\n",
      "\u001b[1m\n",
      "Sennheiser HD450BT review: Great for work, and play\n",
      "\u001b[0m\n",
      "The Sennheiser HD450BT have an over the ear design with soft ear cups and headband. The power button also switches on the noise cancellation, volume controls and navigation are in a toggle and voice assistant is another button. Quite a lot to remember. But the foam ensures that after a while you forget that you are wearing headphones. My part of Delhi is so quiet that you can hear babies cry in faraway apartment blocks and an empty metro train going about its pointless trip sounds like a scene from Speed. The Sennheiser HD450BT has very good noise cancellation, especially when you consider that this is not really a high-end option like we are used to from Sennheiser. And when you switch to a Suresh Wadkar singing Seene Mein Jalan, you let his sharp vocal prod you think about our present predicament. The HD450BT offers one-tap access to Siri and Google assistant. But while making calls I realised the audio profile changing drastically, it is almost unnatural. While you can hear everything being said, it still feels like you are speaking from a lonely room. It sounds a bit better when you switch on the noise cancellation for the calls. However, the audio quality on the other side is quite good. Priced Rs 14,990, the Sennheiser HD450BT is a good value for money headphones that offer top-end audio quality, noise cancellation and voice assistance. \n",
      "\n"
     ]
    },
    {
     "data": {
      "image/png": "[encoded data removed]",
      "text/plain": [
       "<Figure size 864x720 with 1 Axes>"
      ]
     },
     "metadata": {
      "needs_background": "light"
     },
     "output_type": "display_data"
    }
   ],
   "source": [
    "retention = int(input(\"Percentage of information to retain : \"))\n",
    "hybrid_dict_S = get_summary_w2v(text, retention, Stanford_model, \"Stanford's Glove model\")"
   ]
  },
  {
   "cell_type": "markdown",
   "metadata": {},
   "source": [
    "This summary is actually quite better as it combines the features, author's narrative and overall view pretty well.\n",
    "\n",
    "# All in One Combined Model\n",
    "\n",
    "Now, finally we will try to make a **Hybrid - ALL in One Model** using all the three methods implemented above to get a combined summary that contains best features of all of them, but removes their shortcomings.\n",
    "\n",
    "For this Purpose, We will use `hybrid_dict_T`, `hybrid_dict_G`, `hybrid_dict_S` to get the scores of corresponding Sentence Numbers from Tf-idf, Google's Word2Vec and Stanford's Glove Models respectively.\n",
    "\n",
    "Now, let us write a function `get_hybrid_summary` that combines the three models to get the summary."
   ]
  },
  {
   "cell_type": "code",
   "execution_count": 26,
   "metadata": {
    "ExecuteTime": {
     "end_time": "2020-05-26T13:03:36.041176Z",
     "start_time": "2020-05-26T13:03:36.025515Z"
    }
   },
   "outputs": [],
   "source": [
    "def get_hybrid_summary(retention, hybrid_dict, tokenized_sentence, model_name):\n",
    "    input_user = retention\n",
    "    no_of_sentences = int((input_user*len(tokenized_sentence))/100)\n",
    "    \n",
    "    # To get the visual of the Sentence Scores.\n",
    "    Df = pd.DataFrame(list(hybrid_dict.items()), index=[i for i in range(0, len(tokenized_sentence))])\n",
    "    plt.figure(figsize = (12, 10))\n",
    "    sns.barplot(x = Df[0], y = Df[1], data = Df, color = \"Red\")\n",
    "    plt.xlabel(\"Sentence Number\")\n",
    "    plt.ylabel(\"Sentence Score\")\n",
    "    plt.title(\"Score Graph\")\n",
    "    \n",
    "    hybrid_dict = sorted(hybrid_dict.items(), key = operator.itemgetter(1), reverse = True)\n",
    "    counter = 0\n",
    "    summary = []\n",
    "    sentence_no = []\n",
    "    for important_sentence in hybrid_dict:\n",
    "        if counter < no_of_sentences:\n",
    "            sentence_no.append(important_sentence[0])\n",
    "            counter = counter + 1\n",
    "        else:\n",
    "            break\n",
    "\n",
    "    sentence_no.sort()\n",
    "    iterator = 1\n",
    "    for sentence in tokenized_sentence:\n",
    "        if iterator in sentence_no:\n",
    "            summary.append(sentence)\n",
    "            if len(summary) == no_of_sentences:\n",
    "                plt.axhline((hybrid_dict[no_of_sentences])[1], color = \"Green\")\n",
    "        iterator = iterator + 1\n",
    "\n",
    "    summary = \" \".join(summary)\n",
    "    #Printing the Summary.\n",
    "    print(\"Summary given by : \" + model_name)\n",
    "    headline = soup.find('h1').get_text()\n",
    "    print('\\033[1m')\n",
    "    print(headline)\n",
    "    print('\\033[0m')\n",
    "    print(summary)\n",
    "    plt.show()"
   ]
  },
  {
   "cell_type": "markdown",
   "metadata": {},
   "source": [
    "Also, we will make a new dictionary to get the sum of all three scores for each sentence."
   ]
  },
  {
   "cell_type": "code",
   "execution_count": 27,
   "metadata": {
    "ExecuteTime": {
     "end_time": "2020-05-26T13:03:36.047430Z",
     "start_time": "2020-05-26T13:03:36.042442Z"
    },
    "scrolled": false
   },
   "outputs": [],
   "source": [
    "hybrid_dict = {}\n",
    "tokenized_sentence = []\n",
    "sentences_list = re.split(r'(?<!\\w\\.\\w.)(?<![A-Z][a-z]\\.)(?<=\\.|\\?)\\s', text) # To get the sentences from the Document.\n",
    "for sentence in sentences_list:\n",
    "    tokenized_sentence.append(sentence)\n",
    "    \n",
    "for i in range(len(tokenized_sentence)):\n",
    "    val = hybrid_dict_T[i+1] + hybrid_dict_G[i] + hybrid_dict_S[i]\n",
    "    hybrid_dict[i] = val"
   ]
  },
  {
   "cell_type": "markdown",
   "metadata": {},
   "source": [
    "Now, let us read the Summary given by the Hybrid model."
   ]
  },
  {
   "cell_type": "code",
   "execution_count": 28,
   "metadata": {
    "ExecuteTime": {
     "end_time": "2020-05-26T13:03:42.311032Z",
     "start_time": "2020-05-26T13:03:36.049424Z"
    }
   },
   "outputs": [
    {
     "name": "stdout",
     "output_type": "stream",
     "text": [
      "Percentage of information to retain : 40\n",
      "Summary given by : All in One Model\n",
      "\u001b[1m\n",
      "Sennheiser HD450BT review: Great for work, and play\n",
      "\u001b[0m\n",
      "The Sennheiser HD450BT have an over the ear design with soft ear cups and headband. The controls are all on the right earcup, packed one after the other in a slightly confusing arch. The power button also switches on the noise cancellation, volume controls and navigation are in a toggle and voice assistant is another button. Quite a lot to remember. The design makes the headphones very comfortable to be worn over a longer period of time. Over the past few weeks, I have in a way become addicted to noise cancelling. My part of Delhi is so quiet that you can hear babies cry in faraway apartment blocks and an empty metro train going about its pointless trip sounds like a scene from Speed. The Sennheiser HD450BT has very good noise cancellation, especially when you consider that this is not really a high-end option like we are used to from Sennheiser. And when you switch to a Suresh Wadkar singing Seene Mein Jalan, you let his sharp vocal prod you think about our present predicament. But while making calls I realised the audio profile changing drastically, it is almost unnatural. However, the audio quality on the other side is quite good. While this might not be a Bigg problem with everyone stuck at home, it will be huge once humans are back to travelling. Priced Rs 14,990, the Sennheiser HD450BT is a good value for money headphones that offer top-end audio quality, noise cancellation and voice assistance.\n"
     ]
    },
    {
     "data": {
      "image/png": "[encoded data removed]",
      "text/plain": [
       "<Figure size 864x720 with 1 Axes>"
      ]
     },
     "metadata": {
      "needs_background": "light"
     },
     "output_type": "display_data"
    }
   ],
   "source": [
    "retention = int(input(\"Percentage of information to retain : \"))\n",
    "get_hybrid_summary(retention, hybrid_dict, tokenized_sentence, \"All in One Model\")"
   ]
  },
  {
   "cell_type": "markdown",
   "metadata": {},
   "source": [
    "So, we can see we get a quite well rounded summary which contains features, author's narrative, overall view and price of the product."
   ]
  },
  {
   "cell_type": "markdown",
   "metadata": {},
   "source": [
    "# Conclusion : \n",
    "\n",
    "We first extracted Text from a web page and then applied three models to get the Summary of that Text.\n",
    "\n",
    "* First, we applied Tf-idf scoring model to get the summary. It gives good results but may sometimes miss the essence of the article.\n",
    "* Then, we applied Word Embeddings Models using Google's Word2Vec and Stanford's Glove Word to Vector conversions. Word2Vec conversions gives good results. But, it heavily focussed on one aspect of the review. Glove conversion also gives decent results but sometimes compromised on some features of product.\n",
    "\n",
    "Finally, A Hybrid - All in One Model was used to get the summary and it gives good results combining all the three models mentioned above."
   ]
  }
 ],
 "metadata": {
  "kernelspec": {
   "display_name": "Python 3",
   "language": "python",
   "name": "python3"
  },
  "language_info": {
   "codemirror_mode": {
    "name": "ipython",
    "version": 3
   },
   "file_extension": ".py",
   "mimetype": "text/x-python",
   "name": "python",
   "nbconvert_exporter": "python",
   "pygments_lexer": "ipython3",
   "version": "3.8.2"
  },
  "toc": {
   "base_numbering": 1,
   "nav_menu": {},
   "number_sections": true,
   "sideBar": true,
   "skip_h1_title": false,
   "title_cell": "Table of Contents",
   "title_sidebar": "Contents",
   "toc_cell": false,
   "toc_position": {},
   "toc_section_display": true,
   "toc_window_display": false
  },
  "varInspector": {
   "cols": {
    "lenName": 16,
    "lenType": 16,
    "lenVar": 40
   },
   "kernels_config": {
    "python": {
     "delete_cmd_postfix": "",
     "delete_cmd_prefix": "del ",
     "library": "var_list.py",
     "varRefreshCmd": "print(var_dic_list())"
    },
    "r": {
     "delete_cmd_postfix": ") ",
     "delete_cmd_prefix": "rm(",
     "library": "var_list.r",
     "varRefreshCmd": "cat(var_dic_list()) "
    }
   },
   "types_to_exclude": [
    "module",
    "function",
    "builtin_function_or_method",
    "instance",
    "_Feature"
   ],
   "window_display": false
  }
 },
 "nbformat": 4,
 "nbformat_minor": 4
}
